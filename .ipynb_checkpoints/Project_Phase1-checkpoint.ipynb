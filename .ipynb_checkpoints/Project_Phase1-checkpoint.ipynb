{
 "cells": [
  {
   "cell_type": "code",
   "execution_count": 1,
   "metadata": {},
   "outputs": [],
   "source": [
    "from pyspark import SparkContext, SparkConf"
   ]
  },
  {
   "cell_type": "code",
   "execution_count": 2,
   "metadata": {},
   "outputs": [],
   "source": [
    "master = \"local[4]\"\n",
    "appName = \"task1\"\n",
    "conf = SparkConf().setAppName(appName).setMaster(master)"
   ]
  },
  {
   "cell_type": "code",
   "execution_count": 3,
   "metadata": {},
   "outputs": [],
   "source": [
    "sc = SparkContext(conf=conf)"
   ]
  },
  {
   "cell_type": "code",
   "execution_count": 4,
   "metadata": {},
   "outputs": [],
   "source": [
    "sc.setLogLevel(\"WARN\")"
   ]
  },
  {
   "cell_type": "markdown",
   "metadata": {},
   "source": [
    "## Creating RDD"
   ]
  },
  {
   "cell_type": "code",
   "execution_count": 5,
   "metadata": {},
   "outputs": [],
   "source": [
    "rdd = sc.textFile(\"data/geotweets.tsv\")"
   ]
  },
  {
   "cell_type": "markdown",
   "metadata": {},
   "source": [
    "### Creating a sample RDD for testing"
   ]
  },
  {
   "cell_type": "code",
   "execution_count": 6,
   "metadata": {},
   "outputs": [],
   "source": [
    "sampled_rdd = rdd.sample(False, 0.1, 5)"
   ]
  },
  {
   "cell_type": "markdown",
   "metadata": {},
   "source": [
    "### Creating array splitting on tabs"
   ]
  },
  {
   "cell_type": "code",
   "execution_count": 7,
   "metadata": {},
   "outputs": [],
   "source": [
    "rdd_list = rdd.map(lambda x: x.split('\\t'))"
   ]
  },
  {
   "cell_type": "code",
   "execution_count": 8,
   "metadata": {},
   "outputs": [],
   "source": [
    "sampled_rdd_list = sampled_rdd.map(lambda x: x.split('\\t'))"
   ]
  },
  {
   "cell_type": "markdown",
   "metadata": {},
   "source": [
    "# Task 1"
   ]
  },
  {
   "cell_type": "code",
   "execution_count": null,
   "metadata": {},
   "outputs": [],
   "source": [
    "number_of_tweets = rdd.count()\n",
    "print number_of_tweets"
   ]
  },
  {
   "cell_type": "code",
   "execution_count": null,
   "metadata": {},
   "outputs": [],
   "source": [
    "number_of_users = rdd_list.map(lambda x: x[6]).distinct().count()\n",
    "print(number_of_users)"
   ]
  },
  {
   "cell_type": "code",
   "execution_count": null,
   "metadata": {},
   "outputs": [],
   "source": [
    "number_of_countries = rdd_list.map(lambda x: x[1]).distinct().count()\n",
    "print(number_of_countries)"
   ]
  },
  {
   "cell_type": "code",
   "execution_count": null,
   "metadata": {},
   "outputs": [],
   "source": [
    "number_of_places = rdd_list.map(lambda x: x[4]).distinct().count()\n",
    "print(number_of_places)"
   ]
  },
  {
   "cell_type": "code",
   "execution_count": null,
   "metadata": {},
   "outputs": [],
   "source": [
    "number_of_languages = rdd_list.map(lambda x: (x, 1) ).reduce(lambda a, b: a+b)\n",
    "#number_of_languages = rdd_list.map(lambda x: x[5]).distinct().count()\n",
    "print(number_of_languages)"
   ]
  },
  {
   "cell_type": "code",
   "execution_count": null,
   "metadata": {},
   "outputs": [],
   "source": [
    "minimum_latitude = rdd_list.map(lambda x: float(x[11])).reduce(lambda a, b: min(a,b))\n",
    "print(minimum_latitude)"
   ]
  },
  {
   "cell_type": "code",
   "execution_count": null,
   "metadata": {},
   "outputs": [],
   "source": [
    "minimum_longitude = rdd_list.map(lambda x: float(x[12])).reduce(lambda a, b: min(a,b))\n",
    "print(minimum_longitude)"
   ]
  },
  {
   "cell_type": "code",
   "execution_count": null,
   "metadata": {},
   "outputs": [],
   "source": [
    "maximum_latitude = rdd_list.map(lambda x: float(x[11])).reduce(lambda a, b: max(a,b))\n",
    "print(maximum_latitude)"
   ]
  },
  {
   "cell_type": "code",
   "execution_count": null,
   "metadata": {},
   "outputs": [],
   "source": [
    "maximum_longitude = rdd_list.map(lambda x: float(x[12])).reduce(lambda a, b: max(a,b))\n",
    "#alsjdk\n",
    "print(maximum_longitude)"
   ]
  },
  {
   "cell_type": "code",
   "execution_count": null,
   "metadata": {},
   "outputs": [],
   "source": [
    "tweet_text = rdd_list.map(lambda x: x[10])\n",
    "print tweet_text"
   ]
  },
  {
   "cell_type": "code",
   "execution_count": null,
   "metadata": {},
   "outputs": [],
   "source": [
    "tweet_in_characters = tweet_text.map(lambda x: (len(x)))\n",
    "average_tweet_in_characters = tweet_in_characters.mean()\n",
    "print(average_tweet_in_characters)"
   ]
  },
  {
   "cell_type": "code",
   "execution_count": null,
   "metadata": {
    "scrolled": true
   },
   "outputs": [],
   "source": [
    "tweet_in_words = tweet_text.map(lambda x: len(x.split(' ')))\n",
    "average_tweet_in_words = tweet_in_words.mean()\n",
    "print(average_tweet_in_words)"
   ]
  },
  {
   "cell_type": "markdown",
   "metadata": {},
   "source": [
    "### Combining results to RDD and writes to file"
   ]
  },
  {
   "cell_type": "code",
   "execution_count": null,
   "metadata": {},
   "outputs": [],
   "source": [
    "results = sc.parallelize([number_of_tweets, number_of_users,\\\n",
    "                        number_of_countries, number_of_places,\\\n",
    "                        number_of_languages, minimum_latitude,\\\n",
    "                        minimum_longitude, maximum_latitude, maximum_longitude,\\\n",
    "                        average_tweet_in_characters, average_tweet_in_words])\n",
    "results = results.coalesce(1)\n",
    "results_tsv = results.saveAsTextFile('results/result_1.tsv')"
   ]
  },
  {
   "cell_type": "markdown",
   "metadata": {},
   "source": [
    "# Task 2"
   ]
  },
  {
   "cell_type": "code",
   "execution_count": 29,
   "metadata": {},
   "outputs": [],
   "source": [
    "from operator import add\n",
    "new_rdd = sampled_rdd_list.map(lambda x: (x[5], 1)).countByKey().items()\n",
    "new_rdd2 = sampled_rdd_list.map(lambda x: (x[5], 1)).reduceByKey(add)"
   ]
  },
  {
   "cell_type": "code",
   "execution_count": 30,
   "metadata": {},
   "outputs": [
    {
     "name": "stdout",
     "output_type": "stream",
     "text": [
      "[(u'en', 144527), (u'zh', 27), (u'vi', 29), (u'is', 59)]\n",
      "[(u'en', 144527), (u'is', 59), (u'vi', 29), (u'zh', 27)]\n",
      "[(u'el', 2), (u'ne', 2), (u'fa', 5), (u'sr', 8), (u'uk', 11), (u'ko', 17), (u'th', 21), (u'zh', 27), (u'vi', 29), (u'hi', 46), (u'bg', 47), (u'hr', 52), (u'is', 59), (u'bs', 93), (u'lv', 102), (u'ar', 106), (u'hu', 113), (u'fi', 143), (u'ru', 152), (u'ja', 162), (u'lt', 172), (u'tr', 174), (u'no', 228), (u'nl', 243), (u'sv', 262), (u'pl', 264), (u'sk', 359), (u'da', 482), (u'sl', 486), (u'et', 689), (u'ro', 893), (u'de', 902), (u'tl', 1169), (u'in', 1364), (u'it', 1587), (u'fr', 1838), (u'und', 10230), (u'pt', 44122), (u'es', 60042), (u'en', 144527)]\n"
     ]
    }
   ],
   "source": [
    "print(new_rdd[1:5])\n",
    "print(sorted(new_rdd[1:5]))\n",
    "print(new_rdd2.sortBy(lambda x: x[1]).collect())"
   ]
  },
  {
   "cell_type": "code",
   "execution_count": null,
   "metadata": {},
   "outputs": [],
   "source": []
  }
 ],
 "metadata": {
  "git": {
   "suppress_outputs": true
  },
  "kernelspec": {
   "display_name": "Python 3",
   "language": "python",
   "name": "python3"
  },
  "language_info": {
   "codemirror_mode": {
    "name": "ipython",
    "version": 2
   },
   "file_extension": ".py",
   "mimetype": "text/x-python",
   "name": "python",
   "nbconvert_exporter": "python",
   "pygments_lexer": "ipython2",
   "version": "2.7.12"
  }
 },
 "nbformat": 4,
 "nbformat_minor": 2
}
