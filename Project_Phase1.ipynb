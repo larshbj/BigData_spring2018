{
  "cells": [
    {
      "cell_type": "code",
      "execution_count": null,
      "metadata": {},
      "outputs": [],
      "source": [
        "from pyspark import SparkContext, SparkConf\n",
        "import os, shutil"
      ]
    },
    {
      "cell_type": "code",
      "execution_count": null,
      "metadata": {},
      "outputs": [],
      "source": [
        "#os.environ[\"PYSPARK_PYTHON\"] = \"/usr/bin/env python3\"\n",
        "master = \"local[4]\"\n",
        "appName = \"task1\"\n",
        "conf = SparkConf().setAppName(appName).setMaster(master)"
      ]
    },
    {
      "cell_type": "code",
      "execution_count": null,
      "metadata": {},
      "outputs": [],
      "source": [
        "sc = SparkContext(conf=conf)"
      ]
    },
    {
      "cell_type": "code",
      "execution_count": null,
      "metadata": {},
      "outputs": [],
      "source": [
        "sc.setLogLevel(\"WARN\")"
      ]
    },
    {
      "cell_type": "markdown",
      "metadata": {},
      "source": [
        "## Creating RDD"
      ]
    },
    {
      "cell_type": "code",
      "execution_count": null,
      "metadata": {},
      "outputs": [],
      "source": [
        "rdd = sc.textFile(\"data/geotweets.tsv\")"
      ]
    },
    {
      "cell_type": "markdown",
      "metadata": {},
      "source": [
        "### Creating a sample RDD for testing"
      ]
    },
    {
      "cell_type": "code",
      "execution_count": null,
      "metadata": {},
      "outputs": [],
      "source": [
        "sampled_rdd = rdd.sample(False, 0.1, 5)"
      ]
    },
    {
      "cell_type": "markdown",
      "metadata": {},
      "source": [
        "### Creating array splitting on tabs"
      ]
    },
    {
      "cell_type": "code",
      "execution_count": null,
      "metadata": {},
      "outputs": [],
      "source": [
        "rdd_list = rdd.map(lambda x: x.split('\\t'))"
      ]
    },
    {
      "cell_type": "code",
      "execution_count": null,
      "metadata": {},
      "outputs": [],
      "source": [
        "print(rdd_list.first())"
      ]
    },
    {
      "cell_type": "code",
      "execution_count": null,
      "metadata": {},
      "outputs": [],
      "source": [
        "sampled_rdd_list = sampled_rdd.map(lambda x: x.split('\\t'))"
      ]
    },
    {
      "cell_type": "code",
      "execution_count": null,
      "metadata": {},
      "outputs": [],
      "source": [
        "new_list = sampled_rdd_list.keyBy(lambda x: x[1])\n",
        "print(new_list.first())"
      ]
    },
    {
      "cell_type": "markdown",
      "metadata": {},
      "source": [
        "# Task 1"
      ]
    },
    {
      "cell_type": "code",
      "execution_count": null,
      "metadata": {},
      "outputs": [],
      "source": [
        "number_of_tweets = rdd.count()\n",
        "print(number_of_tweets)"
      ]
    },
    {
      "cell_type": "code",
      "execution_count": null,
      "metadata": {},
      "outputs": [],
      "source": [
        "number_of_users = rdd_list.map(lambda x: x[6]).distinct().count()\n",
        "print(number_of_users)"
      ]
    },
    {
      "cell_type": "code",
      "execution_count": null,
      "metadata": {},
      "outputs": [],
      "source": [
        "number_of_countries = rdd_list.map(lambda x: x[1]).distinct().count()\n",
        "print(number_of_countries)"
      ]
    },
    {
      "cell_type": "code",
      "execution_count": null,
      "metadata": {},
      "outputs": [],
      "source": [
        "number_of_places = rdd_list.map(lambda x: x[4]).distinct().count()\n",
        "print(number_of_places)"
      ]
    },
    {
      "cell_type": "code",
      "execution_count": null,
      "metadata": {},
      "outputs": [],
      "source": [
        "#number_of_languages = rdd_list.map(lambda x: (x, 1) ).reduce(lambda a, b: a+b)\n",
        "number_of_languages = rdd_list.map(lambda x: x[5]).distinct().count()\n",
        "print(number_of_languages)"
      ]
    },
    {
      "cell_type": "code",
      "execution_count": null,
      "metadata": {},
      "outputs": [],
      "source": [
        "minimum_latitude = rdd_list.map(lambda x: float(x[11])).reduce(lambda a, b: min(a,b))\n",
        "print(minimum_latitude)"
      ]
    },
    {
      "cell_type": "code",
      "execution_count": null,
      "metadata": {},
      "outputs": [],
      "source": [
        "minimum_longitude = rdd_list.map(lambda x: float(x[12])).reduce(lambda a, b: min(a,b))\n",
        "print(minimum_longitude)"
      ]
    },
    {
      "cell_type": "code",
      "execution_count": null,
      "metadata": {},
      "outputs": [],
      "source": [
        "maximum_latitude = rdd_list.map(lambda x: float(x[11])).reduce(lambda a, b: max(a,b))\n",
        "print(maximum_latitude)"
      ]
    },
    {
      "cell_type": "code",
      "execution_count": null,
      "metadata": {},
      "outputs": [],
      "source": [
        "maximum_longitude = rdd_list.map(lambda x: float(x[12])).reduce(lambda a, b: max(a,b))\n",
        "#alsjdk\n",
        "print(maximum_longitude)"
      ]
    },
    {
      "cell_type": "code",
      "execution_count": null,
      "metadata": {},
      "outputs": [],
      "source": [
        "tweet_text = rdd_list.map(lambda x: x[10])\n",
        "print(tweet_text)"
      ]
    },
    {
      "cell_type": "code",
      "execution_count": null,
      "metadata": {},
      "outputs": [],
      "source": [
        "tweet_in_characters = tweet_text.map(lambda x: (len(x)))\n",
        "average_tweet_in_characters = tweet_in_characters.mean()\n",
        "print(average_tweet_in_characters)"
      ]
    },
    {
      "cell_type": "code",
      "execution_count": null,
      "metadata": {},
      "outputs": [],
      "source": [
        "tweet_in_words = tweet_text.map(lambda x: len(x.split(' ')))\n",
        "average_tweet_in_words = tweet_in_words.mean()\n",
        "print(average_tweet_in_words)"
      ]
    },
    {
      "cell_type": "markdown",
      "metadata": {},
      "source": [
        "### Combining results to RDD and writes to file"
      ]
    },
    {
      "cell_type": "code",
      "execution_count": null,
      "metadata": {},
      "outputs": [],
      "source": [
        "results = sc.parallelize([number_of_tweets, number_of_users,\\\n",
        "                        number_of_countries, number_of_places,\\\n",
        "                        number_of_languages, minimum_latitude,\\\n",
        "                        minimum_longitude, maximum_latitude, maximum_longitude,\\\n",
        "                        average_tweet_in_characters, average_tweet_in_words])\n",
        "results = results.coalesce(1)\n",
        "resultsPath = 'results/result_1.tsv'\n",
        "if os.path.isdir(resultsPath):\n",
        "    shutil.rmtree(resultsPath)\n",
        "results_tsv = results.saveAsTextFile(resultsPath)"
      ]
    },
    {
      "cell_type": "markdown",
      "metadata": {},
      "source": [
        "# Task 2"
      ]
    },
    {
      "cell_type": "markdown",
      "metadata": {},
      "source": [
        "### Creates new RDD by MapReduce, counting number of tweets per country"
      ]
    },
    {
      "cell_type": "code",
      "execution_count": null,
      "metadata": {},
      "outputs": [],
      "source": [
        "new_rdd = rdd_list.map(lambda x: (str(x[1]), 1)).countByKey().items()"
      ]
    },
    {
      "cell_type": "markdown",
      "metadata": {},
      "source": [
        "### Sorts twice. First alphabetically ascending on country name, then numerically descending on number of tweets. We can do this since the sorts are stable, hence the order between records with same key is preserved"
      ]
    },
    {
      "cell_type": "code",
      "execution_count": null,
      "metadata": {},
      "outputs": [],
      "source": [
        "sorted_dict = sorted(new_rdd, key=lambda x: x[0])\n",
        "sorted_dict = sorted(sorted_dict, key=lambda x: x[1], reverse=True)"
      ]
    },
    {
      "cell_type": "code",
      "execution_count": null,
      "metadata": {},
      "outputs": [],
      "source": [
        "#from operator import add, itemgetter\n",
        "#sorted_dict_2 = sorted(new_rdd, key=itemgetter(1,0))\n",
        "#new_rdd2 = sampled_rdd_list.map(lambda x: (x[5], 1)).reduceByKey(add)\n",
        "#sorted_dict_2 = sorted(new_rdd2.collect(), key=lambda x: (-x[1],) + (x[0]))"
      ]
    },
    {
      "cell_type": "code",
      "execution_count": null,
      "metadata": {},
      "outputs": [],
      "source": [
        "print(sorted_dict)"
      ]
    },
    {
      "cell_type": "markdown",
      "metadata": {},
      "source": [
        "### Saving result as RDD"
      ]
    },
    {
      "cell_type": "code",
      "execution_count": null,
      "metadata": {},
      "outputs": [],
      "source": [
        "result_task2_rdd = sc.parallelize(sorted_dict)\n",
        "result_task2 = result_task2_rdd.map(lambda x: '{}\\t{}'.format(x[0],x[1]))"
      ]
    },
    {
      "cell_type": "markdown",
      "metadata": {},
      "source": [
        "### Writing results to text file"
      ]
    },
    {
      "cell_type": "code",
      "execution_count": null,
      "metadata": {},
      "outputs": [],
      "source": [
        "resultsPath = 'results/result_2.tsv'\n",
        "if os.path.isdir(resultsPath):\n",
        "    shutil.rmtree(resultsPath)\n",
        "result_task2.coalesce(1).saveAsTextFile(resultsPath)"
      ]
    },
    {
      "cell_type": "markdown",
      "metadata": {},
      "source": [
        "# Task 3"
      ]
    },
    {
      "cell_type": "code",
      "execution_count": null,
      "metadata": {},
      "outputs": [],
      "source": [
        "countries_under_10 = result_task2_rdd.filter(lambda x: x[1] < 11)\n",
        "print(countries_under_10.collect())"
      ]
    },
    {
      "cell_type": "code",
      "execution_count": null,
      "metadata": {},
      "outputs": [],
      "source": [
        "countries_with_latlon = rdd_list.keyBy(lambda x: str(x[1])).mapValues(lambda x: (float(x[11]), float(x[12])))\n",
        "#countries_with_latlon = rdd_list.map(lambda x: (str(x[1]), float(x[11]), float(x[12])))\n",
        "countries_with_lat = rdd_list.map(lambda x: (str(x[1]), float(x[11])))\n",
        "countries_with_lon = rdd_list.map(lambda x: (str(x[1]), float(x[12])))"
      ]
    },
    {
      "cell_type": "code",
      "execution_count": null,
      "metadata": {},
      "outputs": [],
      "source": [
        "countries_over_10_with_latlon = countries_with_latlon.subtractByKey(countries_under_10) \n",
        "countries_over_10_with_lat = countries_with_lat.subtractByKey(countries_under_10)\n",
        "countries_over_10_with_lon = countries_with_lon.subtractByKey(countries_under_10)"
      ]
    },
    {
      "cell_type": "code",
      "execution_count": null,
      "metadata": {},
      "outputs": [],
      "source": [
        "#print(countries_with_latlon.count())\n",
        "#print(countries_over_10_with_latlon.count())"
      ]
    },
    {
      "cell_type": "code",
      "execution_count": null,
      "metadata": {},
      "outputs": [],
      "source": [
        "#countries_over_10_with_lat.take(1)\n",
        "#countries_over_10_with_lon.take(1)\n",
        "#countries_over_10_with_lat.join(countries_over_10_with_lon).take(1)\n",
        "#countries_over_10_with_lat.groupByKey().mapValues(list).take(1)"
      ]
    },
    {
      "cell_type": "code",
      "execution_count": null,
      "metadata": {},
      "outputs": [],
      "source": [
        "def calculateCentroid(latlon):\n",
        "    return (sum(latlon[0]) / len(latlon[0]), sum(lon) / len(lon))\n",
        "    "
      ]
    },
    {
      "cell_type": "code",
      "execution_count": null,
      "metadata": {},
      "outputs": [],
      "source": [
        "def calculateCenter(listWithCoord):\n",
        "    return sum(listWithCoord)/len(listWithCoord)"
      ]
    },
    {
      "cell_type": "code",
      "execution_count": null,
      "metadata": {},
      "outputs": [],
      "source": [
        "#result_task3 = countries_over_10_with_latlon.reduceByKey(calculateCentroid)\n",
        "country_centroid_lat = countries_over_10_with_lat.groupByKey().\\\n",
        "                    mapValues(list).mapValues(calculateCenter)\n",
        "country_centroid_lon = countries_over_10_with_lon.groupByKey().\\\n",
        "                    mapValues(list).mapValues(calculateCenter)\n",
        "country_centroid_rdd = country_centroid_lat.join(country_centroid_lon)\n",
        "print(country_centroid_rdd.first())"
      ]
    },
    {
      "cell_type": "code",
      "execution_count": null,
      "metadata": {},
      "outputs": [],
      "source": [
        "result_task3 = country_centroid_rdd.map(lambda x: '{}\\t{}\\t{}'.format(x[0], x[1][0], x[1][1]))"
      ]
    },
    {
      "cell_type": "code",
      "execution_count": null,
      "metadata": {},
      "outputs": [],
      "source": [
        "resultsPath = 'results/result_3.csv'\n",
        "if os.path.isdir(resultsPath):\n",
        "    shutil.rmtree(resultsPath)\n",
        "result_task3.coalesce(1).saveAsTextFile(resultsPath)"
      ]
    },
    {
      "cell_type": "code",
      "execution_count": null,
      "metadata": {},
      "outputs": [],
      "source": [
        "import cartoframes\n",
        "import pandas as pd\n",
        "#BASEURL = 'https://larshbj.carto.com'\n",
        "#APIKEY = '299d2d825191b9879da6fc859d1064930f28d061'\n",
        "#df = pd.read_csv('result_task3_carto.tsv', sep='\\t')\n",
        "#cc = cartoframes.CartoContext(base_url=BASEURL,\n",
        "#                              api_key=APIKEY)\n",
        "#cc.write(df, 'task3')"
      ]
    },
    {
      "cell_type": "code",
      "execution_count": null,
      "metadata": {},
      "outputs": [],
      "source": [
        "from cartoframes import Layer, BaseMap, styling\n",
        "BASEURL = 'https://larshbj.carto.com'\n",
        "APIKEY = '299d2d825191b9879da6fc859d1064930f28d061'\n",
        "cc = cartoframes.CartoContext(base_url=BASEURL,\n",
        "                              api_key=APIKEY)\n",
        "cc.map(layers=Layer('result_task3_carto_4',\n",
        "                   size=7),\n",
        "       interactive=False)"
      ]
    }
  ],
  "metadata": {
    "kernelspec": {
      "display_name": "Python 3",
      "language": "python",
      "name": "python3"
    },
    "language_info": {
      "codemirror_mode": {
        "name": "ipython",
        "version": 2
      },
      "file_extension": ".py",
      "mimetype": "text/x-python",
      "name": "python",
      "nbconvert_exporter": "python",
      "pygments_lexer": "ipython2",
      "version": "2.7.12"
    }
  },
  "nbformat": 4,
  "nbformat_minor": 2
}
