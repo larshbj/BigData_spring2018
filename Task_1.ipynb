{
 "cells": [
  {
   "cell_type": "code",
   "execution_count": 1,
   "metadata": {},
   "outputs": [],
   "source": [
    "from pyspark import SparkContext, SparkConf"
   ]
  },
  {
   "cell_type": "code",
   "execution_count": 2,
   "metadata": {},
   "outputs": [],
   "source": [
    "master = \"local[4]\"\n",
    "appName = \"task1\"\n",
    "conf = SparkConf().setAppName(appName).setMaster(master)"
   ]
  },
  {
   "cell_type": "code",
   "execution_count": 3,
   "metadata": {},
   "outputs": [],
   "source": [
    "sc = SparkContext(conf=conf)"
   ]
  },
  {
   "cell_type": "code",
   "execution_count": 4,
   "metadata": {},
   "outputs": [],
   "source": [
    "sc.setLogLevel(\"WARN\")"
   ]
  },
  {
   "cell_type": "markdown",
   "metadata": {},
   "source": [
    "## Creating RDD"
   ]
  },
  {
   "cell_type": "code",
   "execution_count": 5,
   "metadata": {},
   "outputs": [],
   "source": [
    "rdd = sc.textFile(\"data/geotweets.tsv\")"
   ]
  },
  {
   "cell_type": "markdown",
   "metadata": {},
   "source": [
    "### Creating a sample RDD for testing"
   ]
  },
  {
   "cell_type": "code",
   "execution_count": 6,
   "metadata": {},
   "outputs": [],
   "source": [
    "sampled_rdd = rdd.sample(False, 0.1, 5)"
   ]
  },
  {
   "cell_type": "markdown",
   "metadata": {},
   "source": [
    "### Creating array splitting on tabs"
   ]
  },
  {
   "cell_type": "code",
   "execution_count": 9,
   "metadata": {},
   "outputs": [],
   "source": [
    "sampled_rdd_list = sampled_rdd.map(lambda x: x.split('\\t'))"
   ]
  },
  {
   "cell_type": "code",
   "execution_count": 53,
   "metadata": {},
   "outputs": [
    {
     "name": "stdout",
     "output_type": "stream",
     "text": [
      "271230\n"
     ]
    }
   ],
   "source": [
    "number_of_tweets = sampled_rdd.count()\n",
    "print number_of_tweets"
   ]
  },
  {
   "cell_type": "code",
   "execution_count": 20,
   "metadata": {},
   "outputs": [
    {
     "name": "stdout",
     "output_type": "stream",
     "text": [
      "122714\n"
     ]
    }
   ],
   "source": [
    "number_of_users = sampled_rdd_list.map(lambda x: x[6]).distinct().count()\n",
    "print(number_of_users)"
   ]
  },
  {
   "cell_type": "code",
   "execution_count": 11,
   "metadata": {},
   "outputs": [],
   "source": [
    "number_of_countries = sampled_rdd_list.map(lambda x: x[1]).distinct().count()\n",
    "print(number_of_countries)"
   ]
  },
  {
   "cell_type": "code",
   "execution_count": 12,
   "metadata": {},
   "outputs": [],
   "source": [
    "number_of_places = sampled_rdd_list.map(lambda x: x[4]).distinct().count()\n",
    "print(number_of_places)"
   ]
  },
  {
   "cell_type": "code",
   "execution_count": 13,
   "metadata": {},
   "outputs": [],
   "source": [
    "number_of_languages = sampled_rdd_list.map(lambda x: x[5]).distinct().count()\n",
    "print(number_of_languages)"
   ]
  },
  {
   "cell_type": "code",
   "execution_count": 29,
   "metadata": {},
   "outputs": [
    {
     "name": "stdout",
     "output_type": "stream",
     "text": [
      "-54.80753659\n"
     ]
    }
   ],
   "source": [
    "minimum_latitude = sampled_rdd_list.map(lambda x: float(x[11])).reduce(lambda a, b: min(a,b))\n",
    "print(minimum_latitude)"
   ]
  },
  {
   "cell_type": "code",
   "execution_count": 28,
   "metadata": {},
   "outputs": [
    {
     "name": "stdout",
     "output_type": "stream",
     "text": [
      "-159.80555556\n"
     ]
    }
   ],
   "source": [
    "minimum_longitude = sampled_rdd_list.map(lambda x: float(x[12])).reduce(lambda a, b: min(a,b))\n",
    "print(minimum_longitude)"
   ]
  },
  {
   "cell_type": "code",
   "execution_count": 32,
   "metadata": {},
   "outputs": [
    {
     "name": "stdout",
     "output_type": "stream",
     "text": [
      "54.47604295\n"
     ]
    }
   ],
   "source": [
    "maximum_latitude = sampled_rdd_list.map(lambda x: float(x[11])).reduce(lambda a, b: max(a,b))\n",
    "print(maximum_latitude)"
   ]
  },
  {
   "cell_type": "code",
   "execution_count": 34,
   "metadata": {},
   "outputs": [
    {
     "name": "stdout",
     "output_type": "stream",
     "text": [
      "153.03508445\n"
     ]
    }
   ],
   "source": [
    "maximum_longitude = sampled_rdd_list.map(lambda x: float(x[12])).reduce(lambda a, b: max(a,b))\n",
    "print(maximum_longitude)"
   ]
  },
  {
   "cell_type": "code",
   "execution_count": 46,
   "metadata": {},
   "outputs": [
    {
     "name": "stdout",
     "output_type": "stream",
     "text": [
      "Hoy no ests y tengo mil palabras, todas para vos\n"
     ]
    }
   ],
   "source": [
    "tweet_text = sampled_rdd_list.map(lambda x: x[10])\n",
    "print tweet_text"
   ]
  },
  {
   "cell_type": "code",
   "execution_count": 49,
   "metadata": {},
   "outputs": [
    {
     "name": "stdout",
     "output_type": "stream",
     "text": [
      "87.1632636508\n",
      "48\n"
     ]
    }
   ],
   "source": [
    "tweet_in_characters = tweet_text.map(lambda x: (len(x)))\n",
    "average_tweet_in_characters = tweet_in_characters.mean()\n",
    "print(average_tweet_in_characters)"
   ]
  },
  {
   "cell_type": "code",
   "execution_count": 52,
   "metadata": {
    "scrolled": true
   },
   "outputs": [
    {
     "name": "stdout",
     "output_type": "stream",
     "text": [
      "12.2201010213\n"
     ]
    }
   ],
   "source": [
    "tweet_in_words = tweet_text.map(lambda x: len(x.split(' ')))\n",
    "average_tweet_in_words = tweet_in_words.mean()\n",
    "print(average_tweet_in_words)"
   ]
  },
  {
   "cell_type": "markdown",
   "metadata": {},
   "source": [
    "### Combining results to RDD and writes to file"
   ]
  },
  {
   "cell_type": "code",
   "execution_count": 65,
   "metadata": {},
   "outputs": [],
   "source": [
    "results = sc.parallelize([number_of_tweets, number_of_users,\\\n",
    "                        number_of_countries, number_of_places,\\\n",
    "                        number_of_languages, minimum_latitude,\\\n",
    "                        minimum_longitude, maximum_latitude, maximum_longitude,\\\n",
    "                        average_tweet_in_characters, average_tweet_in_words])\n",
    "results = results.coalesce(1)\n",
    "results_tsv = results.saveAsTextFile('results/result_1.tsv')"
   ]
  }
 ],
 "metadata": {
  "kernelspec": {
   "display_name": "Python 2",
   "language": "python",
   "name": "python2"
  },
  "language_info": {
   "codemirror_mode": {
    "name": "ipython",
    "version": 2
   },
   "file_extension": ".py",
   "mimetype": "text/x-python",
   "name": "python",
   "nbconvert_exporter": "python",
   "pygments_lexer": "ipython2",
   "version": "2.7.12"
  }
 },
 "nbformat": 4,
 "nbformat_minor": 2
}
